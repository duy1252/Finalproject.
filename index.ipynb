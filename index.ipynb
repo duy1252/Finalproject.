{
 "cells": [
  {
   "cell_type": "markdown",
   "source": [
    "# **Question 1: Import Library**"
   ],
   "metadata": {}
  },
  {
   "cell_type": "code",
   "execution_count": 17,
   "source": [
    "import matplotlib.pyplot as plt \n",
    "import pandas as pd \n",
    "import numpy as np \n",
    "import random"
   ],
   "outputs": [],
   "metadata": {}
  },
  {
   "cell_type": "code",
   "execution_count": 49,
   "source": [
    "import time\n",
    "class Timer(): \n",
    "   def __init__(self): \n",
    "      self.times = []\n",
    "      self.start()\n",
    "   def start(self): \n",
    "      self.start_time = time.time()\n",
    "   def stop(self): \n",
    "      self.times.append(time.time() - self.start_time)\n",
    "      return self.times[-1]"
   ],
   "outputs": [],
   "metadata": {}
  },
  {
   "cell_type": "markdown",
   "source": [
    "# **Question 2: Import Data**"
   ],
   "metadata": {}
  },
  {
   "cell_type": "code",
   "execution_count": 50,
   "source": [
    "timer = Timer()\n",
    "timer.start()\n",
    "file_name = 'data.csv'\n",
    "data = pd.read_csv(file_name)\n",
    "df = pd.DataFrame(data=data)\n",
    "df.head()\n",
    "print('Time to run question 2: ', timer.stop())"
   ],
   "outputs": [
    {
     "output_type": "stream",
     "name": "stdout",
     "text": [
      "Time to run question 2:  0.11244893074035645\n"
     ]
    }
   ],
   "metadata": {}
  },
  {
   "cell_type": "markdown",
   "source": [
    "# **Question 3: Group English players into one group**"
   ],
   "metadata": {}
  },
  {
   "cell_type": "code",
   "execution_count": 51,
   "source": [
    "timer = Timer()\n",
    "timer.start()\n",
    "def groupEnglishPlayersIntoOneGroup(): \n",
    "   englishPlayerDf = []\n",
    "   for i in range(len(df)): \n",
    "      if df.iloc[i]['Nationality'] == 'England': \n",
    "         englishPlayerDf.append(df.iloc[i])\n",
    "\n",
    "   englishPlayerDf = pd.DataFrame(data=englishPlayerDf)\n",
    "   print(englishPlayerDf.head())\n",
    "\n",
    "groupEnglishPlayersIntoOneGroup()\n",
    "print('Time to run question 3: ', timer.stop())"
   ],
   "outputs": [
    {
     "output_type": "stream",
     "name": "stdout",
     "text": [
      "        ID                 Name                FullName  Age  Height  Weight  \\\n",
      "8   202126              H. Kane              Harry Kane   27     188      89   \n",
      "24  202652          R. Sterling         Raheem Sterling   26     170      69   \n",
      "32  231281  T. Alexander-Arnold  Trent Alexander-Arnold   22     180      69   \n",
      "45  233049            J. Sancho            Jadon Sancho   21     180      76   \n",
      "55  208830             J. Vardy             Jamie Vardy   34     179      74   \n",
      "\n",
      "                                            PhotoUrl Nationality  Overall  \\\n",
      "8   https://cdn.sofifa.com/players/202/126/22_60.png     England       90   \n",
      "24  https://cdn.sofifa.com/players/202/652/22_60.png     England       88   \n",
      "32  https://cdn.sofifa.com/players/231/281/22_60.png     England       87   \n",
      "45  https://cdn.sofifa.com/players/233/049/22_60.png     England       87   \n",
      "55  https://cdn.sofifa.com/players/208/830/22_60.png     England       86   \n",
      "\n",
      "    Potential  ...  LMRating  CMRating  RMRating LWBRating CDMRating  \\\n",
      "8          90  ...        87        85        87        70        71   \n",
      "24         89  ...        88        81        88        72        67   \n",
      "32         92  ...        85        87        85        87        86   \n",
      "45         91  ...        88        82        88        69        65   \n",
      "55         86  ...        83        77        83        71        68   \n",
      "\n",
      "   RWBRating  LBRating  CBRating  RBRating GKRating  \n",
      "8         70        67        64        67       23  \n",
      "24        72        68        58        68       24  \n",
      "32        87        86        81        86       22  \n",
      "45        69        63        51        63       22  \n",
      "55        71        70        66        70       25  \n",
      "\n",
      "[5 rows x 90 columns]\n",
      "Time to run question 3:  1.1238996982574463\n"
     ]
    }
   ],
   "metadata": {}
  },
  {
   "cell_type": "markdown",
   "source": [
    "# **Question 4: Code to generate 2 football teams (each team has 11 players)**"
   ],
   "metadata": {}
  },
  {
   "cell_type": "code",
   "execution_count": 52,
   "source": [
    "timer = Timer()\n",
    "timer.start()\n",
    "def generateTwoRandomTeam(): \n",
    "   count = 0\n",
    "   teams = [[], []]\n",
    "   while count < 24: \n",
    "      random_index = random.randint(0, len(df))\n",
    "      player = df.iloc[random_index]\n",
    "      if count >= 12: \n",
    "         teams[0].append(player)\n",
    "      else: \n",
    "         teams[1].append(player)\n",
    "      count += 1 \n",
    "   \n",
    "   teams1Df = pd.DataFrame(data=teams[0])\n",
    "   teams2Df = pd.DataFrame(data=teams[1])\n",
    "\n",
    "   print(teams1Df.head())\n",
    "   print(teams2Df.head())\n",
    "   \n",
    "generateTwoRandomTeam()\n",
    "print('Time to run question 4: ', timer.stop())\n"
   ],
   "outputs": [
    {
     "output_type": "stream",
     "name": "stdout",
     "text": [
      "           ID           Name            FullName  Age  Height  Weight  \\\n",
      "8008   203862       H. Silva          Hugo Silva   29     176      77   \n",
      "14017  260311       J. Tineo          Juan Tineo   25     183      75   \n",
      "17523  264458       A. Matuq      Abdullah Matuq   18     172      77   \n",
      "165    241486      J. Koundé        Jules Koundé   22     181      75   \n",
      "8251   199277  M. Jonckheere  Michiel Jonckheere   31     180      66   \n",
      "\n",
      "                                               PhotoUrl   Nationality  \\\n",
      "8008   https://cdn.sofifa.com/players/203/862/22_60.png     Argentina   \n",
      "14017  https://cdn.sofifa.com/players/260/311/22_60.png     Venezuela   \n",
      "17523  https://cdn.sofifa.com/players/264/458/22_60.png  Saudi Arabia   \n",
      "165    https://cdn.sofifa.com/players/241/486/22_60.png        France   \n",
      "8251   https://cdn.sofifa.com/players/199/277/22_60.png       Belgium   \n",
      "\n",
      "       Overall  Potential  ...  LMRating  CMRating  RMRating LWBRating  \\\n",
      "8008        67         67  ...        62        61        62        67   \n",
      "14017       62         67  ...        45        49        45        56   \n",
      "17523       56         71  ...        57        47        57        44   \n",
      "165         83         89  ...        70        74        70        79   \n",
      "8251        67         67  ...        66        67        66        63   \n",
      "\n",
      "      CDMRating RWBRating  LBRating  CBRating  RBRating GKRating  \n",
      "8008         66        67        67        67        67       17  \n",
      "14017        60        56        59        64        59       18  \n",
      "17523        38        44        42        36        42       14  \n",
      "165          82        79        81        84        81       22  \n",
      "8251         67        63        62        63        62       20  \n",
      "\n",
      "[5 rows x 90 columns]\n",
      "           ID          Name              FullName  Age  Height  Weight  \\\n",
      "6227   215412      C. Elder          Callum Elder   26     180      67   \n",
      "4339   210214       Jozabed  Jozabed Sánchez Ruiz   30     180      70   \n",
      "12865  251499   T. Sabitzer       Thomas Sabitzer   20     176      77   \n",
      "4107   200857    M. Leitner        Moritz Leitner   28     178      67   \n",
      "1415   231416  D. Lukébakio        Dodi Lukébakio   23     187      77   \n",
      "\n",
      "                                               PhotoUrl Nationality  Overall  \\\n",
      "6227   https://cdn.sofifa.com/players/215/412/22_60.png   Australia       69   \n",
      "4339   https://cdn.sofifa.com/players/210/214/22_60.png       Spain       71   \n",
      "12865  https://cdn.sofifa.com/players/251/499/22_60.png     Austria       63   \n",
      "4107   https://cdn.sofifa.com/players/200/857/22_60.png     Germany       71   \n",
      "1415   https://cdn.sofifa.com/players/231/416/22_60.png     Belgium       76   \n",
      "\n",
      "       Potential  ...  LMRating  CMRating  RMRating LWBRating CDMRating  \\\n",
      "6227          71  ...        64        62        64        69        66   \n",
      "4339          71  ...        70        71        70        66        68   \n",
      "12865         71  ...        64        56        64        49        44   \n",
      "4107          71  ...        71        71        71        67        68   \n",
      "1415          81  ...        77        70        77        59        54   \n",
      "\n",
      "      RWBRating  LBRating  CBRating  RBRating GKRating  \n",
      "6227         69        68        66        68       20  \n",
      "4339         66        65        64        65       18  \n",
      "12865        49        46        38        46       17  \n",
      "4107         67        65        61        65       20  \n",
      "1415         59        55        46        55       19  \n",
      "\n",
      "[5 rows x 90 columns]\n",
      "Time to run question 4:  0.014310359954833984\n"
     ]
    }
   ],
   "metadata": {}
  },
  {
   "cell_type": "markdown",
   "source": [
    "# **Question 5: Code to Place the players in a Paris Saint-Germain (5 groups, each group has 4 teams)**"
   ],
   "metadata": {}
  },
  {
   "cell_type": "code",
   "execution_count": 57,
   "source": [
    "timer = Timer()\n",
    "timer.start()\n",
    "def codeTransferValueAccordingToColumnChart(): \n",
    "   montrealDf = df[df['Club']=='Paris Saint-Germain']\n",
    "   groups = []\n",
    "   while len(groups) < 5: \n",
    "      teams = [] \n",
    "      while len(teams) < 4: \n",
    "         teams.append(montrealDf.iloc[random.randint(0, len(teams))])\n",
    "      groups.append(teams)\n",
    "   groupsDf = []\n",
    "   for i in range(len(groups)): \n",
    "      groupsDf.append(pd.DataFrame(data=groups[i]))\n",
    "   return groupsDf\n",
    "\n",
    "groupsDf = codeTransferValueAccordingToColumnChart()\n",
    "for groupDf in groupsDf: \n",
    "   print(groupDf.head())\n",
    "\n",
    "print('Time to run question 5: ', timer.stop())"
   ],
   "outputs": [
    {
     "output_type": "stream",
     "name": "stdout",
     "text": [
      "        ID           Name              FullName  Age  Height  Weight  \\\n",
      "0   158023       L. Messi          Lionel Messi   34     170      72   \n",
      "0   158023       L. Messi          Lionel Messi   34     170      72   \n",
      "2   231747      K. Mbappé         Kylian Mbappé   22     182      73   \n",
      "20  230621  G. Donnarumma  Gianluigi Donnarumma   22     196      90   \n",
      "\n",
      "                                            PhotoUrl Nationality  Overall  \\\n",
      "0   https://cdn.sofifa.com/players/158/023/22_60.png   Argentina       93   \n",
      "0   https://cdn.sofifa.com/players/158/023/22_60.png   Argentina       93   \n",
      "2   https://cdn.sofifa.com/players/231/747/22_60.png      France       91   \n",
      "20  https://cdn.sofifa.com/players/230/621/22_60.png       Italy       89   \n",
      "\n",
      "    Potential  ...  LMRating  CMRating  RMRating LWBRating CDMRating  \\\n",
      "0          93  ...        93        90        93        69        67   \n",
      "0          93  ...        93        90        93        69        67   \n",
      "2          95  ...        92        84        92        70        66   \n",
      "20         93  ...        38        40        38        34        37   \n",
      "\n",
      "   RWBRating  LBRating  CBRating  RBRating GKRating  \n",
      "0         69        64        53        64       22  \n",
      "0         69        64        53        64       22  \n",
      "2         70        66        57        66       21  \n",
      "20        34        34        34        34       90  \n",
      "\n",
      "[4 rows x 90 columns]\n",
      "       ID       Name                    FullName  Age  Height  Weight  \\\n",
      "0  158023   L. Messi                Lionel Messi   34     170      72   \n",
      "0  158023   L. Messi                Lionel Messi   34     170      72   \n",
      "0  158023   L. Messi                Lionel Messi   34     170      72   \n",
      "5  190871  Neymar Jr  Neymar da Silva Santos Jr.   29     175      68   \n",
      "\n",
      "                                           PhotoUrl Nationality  Overall  \\\n",
      "0  https://cdn.sofifa.com/players/158/023/22_60.png   Argentina       93   \n",
      "0  https://cdn.sofifa.com/players/158/023/22_60.png   Argentina       93   \n",
      "0  https://cdn.sofifa.com/players/158/023/22_60.png   Argentina       93   \n",
      "5  https://cdn.sofifa.com/players/190/871/22_60.png      Brazil       91   \n",
      "\n",
      "   Potential  ...  LMRating  CMRating  RMRating LWBRating CDMRating RWBRating  \\\n",
      "0         93  ...        93        90        93        69        67        69   \n",
      "0         93  ...        93        90        93        69        67        69   \n",
      "0         93  ...        93        90        93        69        67        69   \n",
      "5         91  ...        91        85        91        70        66        70   \n",
      "\n",
      "   LBRating  CBRating  RBRating GKRating  \n",
      "0        64        53        64       22  \n",
      "0        64        53        64       22  \n",
      "0        64        53        64       22  \n",
      "5        65        53        65       23  \n",
      "\n",
      "[4 rows x 90 columns]\n",
      "       ID       Name                    FullName  Age  Height  Weight  \\\n",
      "0  158023   L. Messi                Lionel Messi   34     170      72   \n",
      "0  158023   L. Messi                Lionel Messi   34     170      72   \n",
      "0  158023   L. Messi                Lionel Messi   34     170      72   \n",
      "5  190871  Neymar Jr  Neymar da Silva Santos Jr.   29     175      68   \n",
      "\n",
      "                                           PhotoUrl Nationality  Overall  \\\n",
      "0  https://cdn.sofifa.com/players/158/023/22_60.png   Argentina       93   \n",
      "0  https://cdn.sofifa.com/players/158/023/22_60.png   Argentina       93   \n",
      "0  https://cdn.sofifa.com/players/158/023/22_60.png   Argentina       93   \n",
      "5  https://cdn.sofifa.com/players/190/871/22_60.png      Brazil       91   \n",
      "\n",
      "   Potential  ...  LMRating  CMRating  RMRating LWBRating CDMRating RWBRating  \\\n",
      "0         93  ...        93        90        93        69        67        69   \n",
      "0         93  ...        93        90        93        69        67        69   \n",
      "0         93  ...        93        90        93        69        67        69   \n",
      "5         91  ...        91        85        91        70        66        70   \n",
      "\n",
      "   LBRating  CBRating  RBRating GKRating  \n",
      "0        64        53        64       22  \n",
      "0        64        53        64       22  \n",
      "0        64        53        64       22  \n",
      "5        65        53        65       23  \n",
      "\n",
      "[4 rows x 90 columns]\n",
      "       ID       Name                    FullName  Age  Height  Weight  \\\n",
      "0  158023   L. Messi                Lionel Messi   34     170      72   \n",
      "0  158023   L. Messi                Lionel Messi   34     170      72   \n",
      "5  190871  Neymar Jr  Neymar da Silva Santos Jr.   29     175      68   \n",
      "5  190871  Neymar Jr  Neymar da Silva Santos Jr.   29     175      68   \n",
      "\n",
      "                                           PhotoUrl Nationality  Overall  \\\n",
      "0  https://cdn.sofifa.com/players/158/023/22_60.png   Argentina       93   \n",
      "0  https://cdn.sofifa.com/players/158/023/22_60.png   Argentina       93   \n",
      "5  https://cdn.sofifa.com/players/190/871/22_60.png      Brazil       91   \n",
      "5  https://cdn.sofifa.com/players/190/871/22_60.png      Brazil       91   \n",
      "\n",
      "   Potential  ...  LMRating  CMRating  RMRating LWBRating CDMRating RWBRating  \\\n",
      "0         93  ...        93        90        93        69        67        69   \n",
      "0         93  ...        93        90        93        69        67        69   \n",
      "5         91  ...        91        85        91        70        66        70   \n",
      "5         91  ...        91        85        91        70        66        70   \n",
      "\n",
      "   LBRating  CBRating  RBRating GKRating  \n",
      "0        64        53        64       22  \n",
      "0        64        53        64       22  \n",
      "5        65        53        65       23  \n",
      "5        65        53        65       23  \n",
      "\n",
      "[4 rows x 90 columns]\n",
      "       ID       Name       FullName  Age  Height  Weight  \\\n",
      "0  158023   L. Messi   Lionel Messi   34     170      72   \n",
      "2  231747  K. Mbappé  Kylian Mbappé   22     182      73   \n",
      "2  231747  K. Mbappé  Kylian Mbappé   22     182      73   \n",
      "2  231747  K. Mbappé  Kylian Mbappé   22     182      73   \n",
      "\n",
      "                                           PhotoUrl Nationality  Overall  \\\n",
      "0  https://cdn.sofifa.com/players/158/023/22_60.png   Argentina       93   \n",
      "2  https://cdn.sofifa.com/players/231/747/22_60.png      France       91   \n",
      "2  https://cdn.sofifa.com/players/231/747/22_60.png      France       91   \n",
      "2  https://cdn.sofifa.com/players/231/747/22_60.png      France       91   \n",
      "\n",
      "   Potential  ...  LMRating  CMRating  RMRating LWBRating CDMRating RWBRating  \\\n",
      "0         93  ...        93        90        93        69        67        69   \n",
      "2         95  ...        92        84        92        70        66        70   \n",
      "2         95  ...        92        84        92        70        66        70   \n",
      "2         95  ...        92        84        92        70        66        70   \n",
      "\n",
      "   LBRating  CBRating  RBRating GKRating  \n",
      "0        64        53        64       22  \n",
      "2        66        57        66       21  \n",
      "2        66        57        66       21  \n",
      "2        66        57        66       21  \n",
      "\n",
      "[4 rows x 90 columns]\n",
      "Time to run question 5:  0.039691925048828125\n"
     ]
    }
   ],
   "metadata": {}
  },
  {
   "cell_type": "markdown",
   "source": [
    "# **Question 6: Code to find 5 tallest players**"
   ],
   "metadata": {}
  },
  {
   "cell_type": "code",
   "execution_count": 58,
   "source": [
    "timer = Timer()\n",
    "timer.start()\n",
    "def find5TallestPlayers(): \n",
    "   sortedHighestPlayers = df.sort_values('Height', ascending=False)\n",
    "   return sortedHighestPlayers.head(5)\n",
    "\n",
    "five_tallest_players = find5TallestPlayers()\n",
    "print(five_tallest_players)\n",
    "print('Time to run question 6: ', timer.stop())"
   ],
   "outputs": [
    {
     "output_type": "stream",
     "name": "stdout",
     "text": [
      "           ID        Name             FullName  Age  Height  Weight  \\\n",
      "9819   199321     T. Holý           Tomáš Holý   29     206     102   \n",
      "13252  218212  A. Noppert      Andries Noppert   27     203      94   \n",
      "8723   264389   P. Ndiaye  Pape-Alioune Ndiaye   23     203      71   \n",
      "15732  215408  A. Chapman        Aaron Chapman   31     203      92   \n",
      "11884  226114    F. Mulić         Fejsal Mulić   26     203      84   \n",
      "\n",
      "                                               PhotoUrl     Nationality  \\\n",
      "9819   https://cdn.sofifa.com/players/199/321/22_60.png  Czech Republic   \n",
      "13252  https://cdn.sofifa.com/players/218/212/22_60.png     Netherlands   \n",
      "8723   https://cdn.sofifa.com/players/264/389/22_60.png          France   \n",
      "15732  https://cdn.sofifa.com/players/215/408/22_60.png         England   \n",
      "11884  https://cdn.sofifa.com/players/226/114/22_60.png          Serbia   \n",
      "\n",
      "       Overall  Potential  ...  LMRating  CMRating  RMRating LWBRating  \\\n",
      "9819        65         66  ...        24        26        24        25   \n",
      "13252       63         67  ...        29        28        29        27   \n",
      "8723        66         72  ...        48        54        48        59   \n",
      "15732       60         60  ...        24        24        24        24   \n",
      "11884       64         66  ...        58        49        58        46   \n",
      "\n",
      "      CDMRating RWBRating  LBRating  CBRating  RBRating GKRating  \n",
      "9819         27        25        25        29        25       66  \n",
      "13252        27        27        27        27        27       64  \n",
      "8723         64        59        62        68        62       18  \n",
      "15732        25        24        24        26        24       60  \n",
      "11884        44        46        44        45        44       17  \n",
      "\n",
      "[5 rows x 90 columns]\n",
      "Time to run question 6:  0.017200946807861328\n"
     ]
    }
   ],
   "metadata": {}
  },
  {
   "cell_type": "markdown",
   "source": [
    "# **Question 7: Code to calculate total players in each Manchester City**"
   ],
   "metadata": {}
  },
  {
   "cell_type": "code",
   "execution_count": 59,
   "source": [
    "timer = Timer()\n",
    "timer.start()\n",
    "def calculateToalPlayers(): \n",
    "   print(df['Club'])\n",
    "   Manchester_City_df = df[np.array(df['Club'] == 'Manchester City')]\n",
    "   return len(Manchester_City_df)\n",
    "\n",
    "total_player_in_manschester = calculateToalPlayers()\n",
    "print('total: ', total_player_in_manschester)\n",
    "print('Time to run question 7: ', timer.stop())"
   ],
   "outputs": [
    {
     "output_type": "stream",
     "name": "stdout",
     "text": [
      "0                   Paris Saint-Germain\n",
      "1                     FC Bayern München\n",
      "2                   Paris Saint-Germain\n",
      "3                       Atlético Madrid\n",
      "4                       Manchester City\n",
      "                      ...              \n",
      "19243                ATK Mohun Bagan FC\n",
      "19244                   Montreal Impact\n",
      "19245                     Longford Town\n",
      "19246    Guangzhou Evergrande Taobao FC\n",
      "19247                 SC East Bengal FC\n",
      "Name: Club, Length: 19248, dtype: object\n",
      "total:  32\n",
      "Time to run question 7:  0.0041158199310302734\n"
     ]
    }
   ],
   "metadata": {}
  },
  {
   "cell_type": "markdown",
   "source": [
    "# **Question 8: Code to find players whose contract expire after 2023**"
   ],
   "metadata": {}
  },
  {
   "cell_type": "code",
   "execution_count": 63,
   "source": [
    "def findPlayersWhoseContractExpireAfter2003(): \n",
    "   timer = Timer()\n",
    "   timer.start()\n",
    "   under_30 = df[np.array(df['Age'] < 30)]\n",
    "   over_30 = df[np.array(df['Age'] >= 30)]\n",
    "   values = [len(under_30), len(over_30)]\n",
    "   print(len(under_30))\n",
    "   print(len(over_30))\n",
    "   plt.bar(['Number of players under 30', 'Number of players over 30'], values)\n",
    "   plt.show()\n",
    "   print('Time to run question 8: ', timer.stop())\n",
    "\n",
    "findPlayersWhoseContractExpireAfter2003()"
   ],
   "outputs": [
    {
     "output_type": "stream",
     "name": "stdout",
     "text": [
      "15457\n",
      "3791\n"
     ]
    },
    {
     "output_type": "display_data",
     "data": {
      "image/png": "[encoded data removed]",
      "text/plain": [
       "<Figure size 432x288 with 1 Axes>"
      ]
     },
     "metadata": {
      "needs_background": "light"
     }
    },
    {
     "output_type": "stream",
     "name": "stdout",
     "text": [
      "Time to run question 8:  0.06788301467895508\n"
     ]
    }
   ],
   "metadata": {}
  }
 ],
 "metadata": {
  "orig_nbformat": 4,
  "language_info": {
   "name": "python",
   "version": "3.9.6",
   "mimetype": "text/x-python",
   "codemirror_mode": {
    "name": "ipython",
    "version": 3
   },
   "pygments_lexer": "ipython3",
   "nbconvert_exporter": "python",
   "file_extension": ".py"
  },
  "kernelspec": {
   "name": "python3",
   "display_name": "Python 3.9.6 64-bit"
  },
  "interpreter": {
   "hash": "aee8b7b246df8f9039afb4144a1f6fd8d2ca17a180786b69acc140d282b71a49"
  }
 },
 "nbformat": 4,
 "nbformat_minor": 2
}